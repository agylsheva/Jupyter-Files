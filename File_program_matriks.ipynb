{
  "nbformat": 4,
  "nbformat_minor": 0,
  "metadata": {
    "kernelspec": {
      "display_name": "Python 3",
      "language": "python",
      "name": "python3"
    },
    "language_info": {
      "codemirror_mode": {
        "name": "ipython",
        "version": 3
      },
      "file_extension": ".py",
      "mimetype": "text/x-python",
      "name": "python",
      "nbconvert_exporter": "python",
      "pygments_lexer": "ipython3",
      "version": "3.6.9"
    },
    "colab": {
      "name": "File_program_matriks.ipynb",
      "provenance": [],
      "collapsed_sections": []
    }
  },
  "cells": [
    {
      "cell_type": "markdown",
      "metadata": {
        "id": "1ZrFQ0OUq9MY"
      },
      "source": [
        "## Python Matriks dan NumPy Array"
      ]
    },
    {
      "cell_type": "markdown",
      "metadata": {
        "id": "6D2fx4rFq9Mx"
      },
      "source": [
        "---"
      ]
    },
    {
      "cell_type": "markdown",
      "metadata": {
        "id": "RazuARMNq9Mz"
      },
      "source": [
        "Matriks adalah struktur data dua dimensi di mana angka-angka disusun menjadi baris dan kolom. Contohnya :"
      ]
    },
    {
      "cell_type": "markdown",
      "metadata": {
        "id": "cJioEJfiq9Mz"
      },
      "source": [
        "<img src=\"https://cdn.programiz.com/sites/tutorial2program/files/matrix.jpg\">"
      ]
    },
    {
      "cell_type": "markdown",
      "metadata": {
        "id": "GPHxf7E3q9M0"
      },
      "source": [
        "Matriks ini adalah matriks 3x4 (dibaca \"tiga kali empat\") karena memiliki 3 baris dan 4 kolom."
      ]
    },
    {
      "cell_type": "markdown",
      "metadata": {
        "id": "-VXy_uoqq9M2"
      },
      "source": [
        "### Python Matriks\n",
        "Python tidak memiliki tipe built-in untuk matriks. Namun, kita dapat memperlakukan list di dalam list sebagai matriks. Sebagai contoh:"
      ]
    },
    {
      "cell_type": "code",
      "metadata": {
        "id": "gfMPO-hQq9M3"
      },
      "source": [
        "A = [[1, 4, 5], \n",
        "    [-5, 8, 9]]"
      ],
      "execution_count": null,
      "outputs": []
    },
    {
      "cell_type": "markdown",
      "metadata": {
        "id": "us9qDKIRq9M5"
      },
      "source": [
        "Kita dapat memperlakukan list ini sebagai matriks yang memiliki 2 baris dan 3 kolom.\n",
        "<img src=\"https://cdn.programiz.com/sites/tutorial2program/files/matrix-python-example.jpg\">"
      ]
    },
    {
      "cell_type": "markdown",
      "metadata": {
        "id": "KBSc__P_q9M6"
      },
      "source": [
        "**Contoh Program**"
      ]
    },
    {
      "cell_type": "code",
      "metadata": {
        "id": "JSfmMZC-q9M8"
      },
      "source": [
        "A = [[1, 4, 5, 12], \n",
        "    [-5, 8, 9, 0],\n",
        "    [-6, 7, 11, 19]]"
      ],
      "execution_count": null,
      "outputs": []
    },
    {
      "cell_type": "markdown",
      "metadata": {
        "id": "fkTz6Ja9q9M9"
      },
      "source": [
        "Untuk mencetak atau mendapatkan seluruh nilai yang ada pada matriks di atas dapa digunakan perintah :"
      ]
    },
    {
      "cell_type": "code",
      "metadata": {
        "colab": {
          "base_uri": "https://localhost:8080/"
        },
        "id": "1inJafQzq9M-",
        "outputId": "e6004ca0-328e-479c-a613-c077300668f1"
      },
      "source": [
        "print(\"A =\", A)"
      ],
      "execution_count": null,
      "outputs": [
        {
          "output_type": "stream",
          "text": [
            "A = [[1, 4, 5, 12], [-5, 8, 9, 0], [-6, 7, 11, 19]]\n"
          ],
          "name": "stdout"
        }
      ]
    },
    {
      "cell_type": "markdown",
      "metadata": {
        "id": "dplGmyoUq9NC"
      },
      "source": [
        "Selain itu, kita juga dapat mendapatkan elemen tertentu dari matriks tersebut dengan cara :"
      ]
    },
    {
      "cell_type": "code",
      "metadata": {
        "colab": {
          "base_uri": "https://localhost:8080/"
        },
        "id": "zZwNi1dIq9ND",
        "outputId": "f03005e7-ef19-438d-8d89-fa91f1e57cb0"
      },
      "source": [
        "print(\"A[1] =\", A[1])      # Baris ke-2\n",
        "\n",
        "print(\"A[1][2] =\", A[1][2])   # Elemen ke-3 dari baris ke-2\n",
        "\n",
        "print(\"A[0][-1] =\", A[0][-1])   # Elemen terakhir dari Baris ke-1"
      ],
      "execution_count": null,
      "outputs": [
        {
          "output_type": "stream",
          "text": [
            "A[1] = [-5, 8, 9, 0]\n",
            "A[1][2] = 9\n",
            "A[0][-1] = 12\n"
          ],
          "name": "stdout"
        }
      ]
    },
    {
      "cell_type": "markdown",
      "metadata": {
        "id": "6Iptpoqdq9NE"
      },
      "source": [
        "---\n",
        "### NumPy Array\n",
        "NumPy adalah sebuah library untuk komputasi ilmiah yang memiliki dukungan untuk objek array berdimensi-N. NumPy menyediakan deretan angka multidimensi (yang sebenarnya adalah sebuah objek). Contohnya:"
      ]
    },
    {
      "cell_type": "code",
      "metadata": {
        "colab": {
          "base_uri": "https://localhost:8080/"
        },
        "id": "NWeDxRiQq9NF",
        "outputId": "b92564e2-049b-40fe-ff98-0635c6e10673"
      },
      "source": [
        "import numpy as np\n",
        "\n",
        "a = np.array([1, 2, 3])\n",
        "\n",
        "print(a)               \n",
        "\n",
        "print(type(a))         "
      ],
      "execution_count": null,
      "outputs": [
        {
          "output_type": "stream",
          "text": [
            "[1 2 3]\n",
            "<class 'numpy.ndarray'>\n"
          ],
          "name": "stdout"
        }
      ]
    },
    {
      "cell_type": "markdown",
      "metadata": {
        "id": "qnQEFmzRq9NJ"
      },
      "source": [
        "Seperti yang Anda lihat, kelas array NumPy disebut ndarray.\n",
        "\n",
        "---\n",
        "\n",
        "### Bagaimana cara membuat array NumPy?\n",
        "Ada beberapa cara untuk membuat array NumPy.\n",
        "\n",
        "1. Array bilangan bulat, float dan Bilangan kompleks"
      ]
    },
    {
      "cell_type": "code",
      "metadata": {
        "colab": {
          "base_uri": "https://localhost:8080/"
        },
        "id": "6ngQIkXYq9NO",
        "outputId": "8f60b17e-5f34-4367-838f-7b17187ac8eb"
      },
      "source": [
        "A = np.array([[1, 2, 3], [3, 4, 5]]) # Bilangan bulat\n",
        "print(A)"
      ],
      "execution_count": null,
      "outputs": [
        {
          "output_type": "stream",
          "text": [
            "[[1 2 3]\n",
            " [3 4 5]]\n"
          ],
          "name": "stdout"
        }
      ]
    },
    {
      "cell_type": "code",
      "metadata": {
        "colab": {
          "base_uri": "https://localhost:8080/"
        },
        "id": "qdE88DDJq9NP",
        "outputId": "64514f11-2c42-4370-e25e-2be2c36b203f"
      },
      "source": [
        "A = np.array([[1.1, 2, 3], [3, 4, 5]]) # float\n",
        "print(A)"
      ],
      "execution_count": null,
      "outputs": [
        {
          "output_type": "stream",
          "text": [
            "[[1.1 2.  3. ]\n",
            " [3.  4.  5. ]]\n"
          ],
          "name": "stdout"
        }
      ]
    },
    {
      "cell_type": "code",
      "metadata": {
        "colab": {
          "base_uri": "https://localhost:8080/"
        },
        "id": "mUwVVpOiq9NQ",
        "outputId": "d3e41c1e-7c88-48a0-ce36-d06cfa40348d"
      },
      "source": [
        "A = np.array([[1, 2, 3], [3, 4, 5]], dtype = complex) # bilangan kompleks\n",
        "print(A)"
      ],
      "execution_count": null,
      "outputs": [
        {
          "output_type": "stream",
          "text": [
            "[[1.+0.j 2.+0.j 3.+0.j]\n",
            " [3.+0.j 4.+0.j 5.+0.j]]\n"
          ],
          "name": "stdout"
        }
      ]
    },
    {
      "cell_type": "markdown",
      "metadata": {
        "id": "0iHo3SEqq9NR"
      },
      "source": [
        "---\n",
        "2. Array angka nol dan satu"
      ]
    },
    {
      "cell_type": "code",
      "metadata": {
        "colab": {
          "base_uri": "https://localhost:8080/"
        },
        "id": "TkaeYbi-q9NS",
        "outputId": "68210c68-594d-40ff-acfd-0ff246db7d5f"
      },
      "source": [
        "zeroes_array = np.zeros( (2, 3) )\n",
        "print(zeroes_array)"
      ],
      "execution_count": null,
      "outputs": [
        {
          "output_type": "stream",
          "text": [
            "[[0. 0. 0.]\n",
            " [0. 0. 0.]]\n"
          ],
          "name": "stdout"
        }
      ]
    },
    {
      "cell_type": "markdown",
      "metadata": {
        "id": "22oUmdEnq9NT"
      },
      "source": [
        "Selain itu, kita juga dapat menetapkan `dtype` menjadi 32 bit (4 byte). Karenanya, array ini dapat mengambil nilai dari <code>-2<sup>-31</sup></code> hingga <code>2<sup>-31</sup>-1</code>."
      ]
    },
    {
      "cell_type": "code",
      "metadata": {
        "colab": {
          "base_uri": "https://localhost:8080/"
        },
        "id": "z1iBrzzRq9NU",
        "outputId": "eab3a99d-e15d-458b-cc1d-2e75d8e78afa"
      },
      "source": [
        "ones_array = np.ones( (1, 5), dtype=np.int32 ) # menentukan dtype\n",
        "print(ones_array)"
      ],
      "execution_count": null,
      "outputs": [
        {
          "output_type": "stream",
          "text": [
            "[[1 1 1 1 1]]\n"
          ],
          "name": "stdout"
        }
      ]
    },
    {
      "cell_type": "markdown",
      "metadata": {
        "id": "HNyfxAkBq9NV"
      },
      "source": [
        "---\n",
        "\n",
        "### Operasi Matriks\n",
        "\n",
        "Pada contoh program selanjutnya akan dibuat 3 jenis program yaitu : penjumlahan dua buah matriks, perkalian dua buah matriks dan transpos sebuah matriks. Jika menggunakan program python biasa, kita memerlukan `nested lists` untuk membuat program tersebut. Namun ada cara yang lebih baik yaitu menggunakan library NumPy.\n",
        "\n",
        "#### Penambahan Dua Matriks\n",
        "\n",
        "<img src=\"https://i1.faceprep.in/Companies-1/matrix-addition-in-python.png\" width=\"35%\">\n",
        "Kita dapat menggunakan operator `+` untuk menambahkan elemen yang sesuai dari dua matriks NumPy."
      ]
    },
    {
      "cell_type": "code",
      "metadata": {
        "colab": {
          "base_uri": "https://localhost:8080/"
        },
        "id": "ALBysdQ4q9NX",
        "outputId": "88ff5051-5391-445e-e2ea-3e977b875bd3"
      },
      "source": [
        "A = np.array(\n",
        "    [[3, 4], \n",
        "     [2, 1]])\n",
        "\n",
        "B = np.array(\n",
        "    [[1, 5], \n",
        "     [3, 7]])\n",
        "\n",
        "C = A + B   \n",
        "\n",
        "print(C)"
      ],
      "execution_count": null,
      "outputs": [
        {
          "output_type": "stream",
          "text": [
            "[[4 9]\n",
            " [5 8]]\n"
          ],
          "name": "stdout"
        }
      ]
    },
    {
      "cell_type": "markdown",
      "metadata": {
        "id": "1wLQ5PH2q9NZ"
      },
      "source": [
        "---\n",
        "#### Perkalian Dua Matriks\n",
        "\n",
        "<img src=\"https://i1.faceprep.in/Companies-1/matrix-multiplication-in-python.png\" width=\"40%\">\n",
        "Untuk mengalikan dua matriks, kita menggunakan metode `dot()`. \n",
        "\n",
        "**Catatan**: `*` digunakan untuk perkalian array (perkalian elemen yang sesuai dari dua array) bukan perkalian matriks."
      ]
    },
    {
      "cell_type": "code",
      "metadata": {
        "colab": {
          "base_uri": "https://localhost:8080/"
        },
        "id": "sUYbyuUpq9Nc",
        "outputId": "701b4ea7-b63c-4fbd-bab6-115f2a31371c"
      },
      "source": [
        "A = np.array(\n",
        "    [[3, 4], \n",
        "     [2, 1]])\n",
        "\n",
        "B = np.array(\n",
        "    [[1, 5], \n",
        "     [3, 7]])\n",
        "\n",
        "C = A.dot(B)\n",
        "\n",
        "print(C)"
      ],
      "execution_count": null,
      "outputs": [
        {
          "output_type": "stream",
          "text": [
            "[[15 43]\n",
            " [ 5 17]]\n"
          ],
          "name": "stdout"
        }
      ]
    },
    {
      "cell_type": "markdown",
      "metadata": {
        "id": "bVXb8vA8q9Ne"
      },
      "source": [
        "---\n",
        "#### Transpos Matriks\n",
        "\n",
        "<img src=\"https://i1.faceprep.in/Companies-1/transpose-of-a-matrix-in-python.png\" width=\"35%\">\n",
        "Kita dapat menggunakan `numpy.transpose` untuk menghitung transpos matriks."
      ]
    },
    {
      "cell_type": "code",
      "metadata": {
        "colab": {
          "base_uri": "https://localhost:8080/"
        },
        "id": "qXpvVkO8q9Nf",
        "outputId": "feb83584-cf06-41de-b808-1ae2ad085123"
      },
      "source": [
        "A = np.array(\n",
        "    [[3, 4], \n",
        "     [2, 1]])\n",
        "\n",
        "print(A.transpose())"
      ],
      "execution_count": null,
      "outputs": [
        {
          "output_type": "stream",
          "text": [
            "[[3 2]\n",
            " [4 1]]\n"
          ],
          "name": "stdout"
        }
      ]
    },
    {
      "cell_type": "markdown",
      "metadata": {
        "id": "-BSpuED6q9Nf"
      },
      "source": [
        "---\n",
        "\n",
        "## Tugas\n",
        "Pada contoh program di atas, sudah di buat 3 program dengan memanfaatkan library NumPy yaitu : \n",
        "1. Penambahan dua matriks\n",
        "2. Perkalian dua matriks\n",
        "3. Transpos matriks\n",
        "\n",
        "Tugas anda adalah membuat 3 program tersebut tanpa menggunakan library NumPy.\n",
        "\n",
        "---"
      ]
    },
    {
      "cell_type": "markdown",
      "metadata": {
        "id": "SwIA5Qq3ry1N"
      },
      "source": [
        "# 1. Penambahan dua matriks"
      ]
    },
    {
      "cell_type": "code",
      "metadata": {
        "id": "KlQX5s-kr8cZ",
        "colab": {
          "base_uri": "https://localhost:8080/"
        },
        "outputId": "28f66bff-e374-4b51-c9a1-bf885c3a40a3"
      },
      "source": [
        "# ANGKANYA GANTI, JANGAN SAMA\n",
        "X = [[0,2,3],\n",
        "     [4,3,1],\n",
        "     [0,3,7]]\n",
        "\n",
        "# ANGKANYA GANTI, JANGAN SAMA\n",
        "Y = [[1,2,3],\n",
        "     [2,3,6],\n",
        "     [1,2,9]]\n",
        "\n",
        "result = [[0 for j in range(len(X[0]))] for i in range(len(X))]\n",
        "for i in range(len(X)):\n",
        "   for j in range(len(X[0])):\n",
        "       result[i][j] = X[i][j] + Y[i][j]\n",
        "\n",
        "print('\\nMATRIX 1:')\n",
        "for r in X:\n",
        "   print(r)\n",
        "\n",
        "print('\\nMATRIX 2:')\n",
        "for r in Y:\n",
        "   print(r)\n",
        "\n",
        "print('\\nHASIL:')\n",
        "for r in result:\n",
        "   print(r)\n"
      ],
      "execution_count": null,
      "outputs": [
        {
          "output_type": "stream",
          "text": [
            "\n",
            "MATRIX 1:\n",
            "[0, 2, 3]\n",
            "[4, 3, 1]\n",
            "[0, 3, 7]\n",
            "\n",
            "MATRIX 2:\n",
            "[1, 2, 3]\n",
            "[2, 3, 6]\n",
            "[1, 2, 9]\n",
            "\n",
            "HASIL:\n",
            "[1, 4, 6]\n",
            "[6, 6, 7]\n",
            "[1, 5, 16]\n"
          ],
          "name": "stdout"
        }
      ]
    },
    {
      "cell_type": "markdown",
      "metadata": {
        "id": "v-3Sx61uuB7e"
      },
      "source": [
        "# 2. Perkalian dua matriks"
      ]
    },
    {
      "cell_type": "code",
      "metadata": {
        "id": "d5XbBtmksg7c",
        "colab": {
          "base_uri": "https://localhost:8080/"
        },
        "outputId": "047b91cb-640d-46ce-ecb9-d98c3bb3800f"
      },
      "source": [
        "# ANGKANYA GANTI, JANGAN SAMA\n",
        "X = [[10,8,3],\n",
        "    [4 ,6,9],\n",
        "    [7 ,3,6]]\n",
        "\n",
        "# ANGKANYA GANTI, JANGAN SAMA\n",
        "Y = [[5,6,2,7],\n",
        "    [6,4,2,0],\n",
        "    [4,6,7,1]]\n",
        "\n",
        "result = [[0 for j in range(len(Y[0]))] for i in range(len(X))]\n",
        "\n",
        "for i in range(len(X)):\n",
        "   for j in range(len(Y[0])):\n",
        "       for k in range(len(Y)):\n",
        "           result[i][j] += X[i][k] * Y[k][j]\n",
        "\n",
        "print('\\nMATRIX 1:')\n",
        "for r in X:\n",
        "   print(r)\n",
        "\n",
        "print('\\nMATRIX 2:')\n",
        "for r in Y:\n",
        "   print(r)\n",
        "\n",
        "print('\\nHASIL:')\n",
        "for r in result:\n",
        "   print(r)"
      ],
      "execution_count": null,
      "outputs": [
        {
          "output_type": "stream",
          "text": [
            "\n",
            "MATRIX 1:\n",
            "[10, 8, 3]\n",
            "[4, 6, 9]\n",
            "[7, 3, 6]\n",
            "\n",
            "MATRIX 2:\n",
            "[5, 6, 2, 7]\n",
            "[6, 4, 2, 0]\n",
            "[4, 6, 7, 1]\n",
            "\n",
            "HASIL:\n",
            "[110, 110, 57, 73]\n",
            "[92, 102, 83, 37]\n",
            "[77, 90, 62, 55]\n"
          ],
          "name": "stdout"
        }
      ]
    },
    {
      "cell_type": "markdown",
      "metadata": {
        "id": "d9Ko2PH_uLC1"
      },
      "source": [
        "# 3. Transpos matriks"
      ]
    },
    {
      "cell_type": "code",
      "metadata": {
        "id": "Kf8sAyhUuk9Q",
        "colab": {
          "base_uri": "https://localhost:8080/"
        },
        "outputId": "e9d5da43-9d29-4b7b-86b4-b1ab44e3b212"
      },
      "source": [
        "# ANGKANYA GANTI, JANGAN SAMA\n",
        "X = [[15,6],\n",
        "    [4 ,8],\n",
        "    [3 ,7]]\n",
        "\n",
        "result = [[0 for j in range(len(X))] for i in range(len(X[0]))]\n",
        "\n",
        "for i in range(len(X)):\n",
        "   for j in range(len(X[0])):\n",
        "       result[j][i] = X[i][j]\n",
        "\n",
        "print('\\nSEBELUM TRANSPOS:')\n",
        "for r in X:\n",
        "   print(r)\n",
        "\n",
        "print('\\nSESUDAH TRANSPOS:')\n",
        "for r in result:\n",
        "   print(r)"
      ],
      "execution_count": null,
      "outputs": [
        {
          "output_type": "stream",
          "text": [
            "\n",
            "SEBELUM TRANSPOS:\n",
            "[15, 6]\n",
            "[4, 8]\n",
            "[3, 7]\n",
            "\n",
            "SESUDAH TRANSPOS:\n",
            "[15, 4, 3]\n",
            "[6, 8, 7]\n"
          ],
          "name": "stdout"
        }
      ]
    }
  ]
}