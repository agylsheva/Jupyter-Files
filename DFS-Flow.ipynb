{
 "cells": [
  {
   "cell_type": "code",
   "execution_count": null,
   "metadata": {},
   "outputs": [],
   "source": [
    "graph = {\n",
    "  'A' : ['Z','S', 'T'],\n",
    "  'Z' : ['O'],\n",
    "  'O' : ['S1'],\n",
    "  'S1' : ['F','R'],\n",
    "  'F' : ['B'],\n",
    "  'B' : [],\n",
    "  'R' : [],\n",
    "  'S' : ['O1', 'F1', 'R1'],\n",
    "  'O1' : [],\n",
    "  'F1' : ['B1'],\n",
    "  'B1' : [],\n",
    "  'R1' : ['C', 'P'],\n",
    "  'C' : [],\n",
    "  'P' : [],\n",
    "  'T' : ['L'],\n",
    "  'L' : ['M'],\n",
    "  'M' : ['D'],\n",
    "  'D' : []\n",
    "}"
   ]
  },
  {
   "cell_type": "code",
   "execution_count": null,
   "metadata": {},
   "outputs": [],
   "source": [
    "visited = set() # Set to keep track of visited nodes of graph."
   ]
  },
  {
   "cell_type": "code",
   "execution_count": null,
   "metadata": {},
   "outputs": [],
   "source": [
    "def dfs(visited, graph, node):  #function for dfs \n",
    "    if node not in visited:\n",
    "        print (node)\n",
    "        visited.add(node)\n",
    "        for neighbour in graph[node]:\n",
    "            dfs(visited, graph, neighbour)"
   ]
  },
  {
   "cell_type": "code",
   "execution_count": null,
   "metadata": {},
   "outputs": [],
   "source": [
    "print(\"Following is the Depth-First Search\")"
   ]
  },
  {
   "cell_type": "code",
   "execution_count": null,
   "metadata": {},
   "outputs": [],
   "source": [
    "dfs(visited, graph, 'A')"
   ]
  },
  {
   "cell_type": "code",
   "execution_count": null,
   "metadata": {},
   "outputs": [],
   "source": []
  }
 ],
 "metadata": {
  "kernelspec": {
   "display_name": "Python 3",
   "language": "python",
   "name": "python3"
  },
  "language_info": {
   "codemirror_mode": {
    "name": "ipython",
    "version": 3
   },
   "file_extension": ".py",
   "mimetype": "text/x-python",
   "name": "python",
   "nbconvert_exporter": "python",
   "pygments_lexer": "ipython3",
   "version": "3.6.9"
  }
 },
 "nbformat": 4,
 "nbformat_minor": 4
}
