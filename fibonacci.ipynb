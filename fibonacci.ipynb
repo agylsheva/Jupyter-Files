def Fibonacci(n): 
    if n<0: 
        print("Incorrect input") 
    # Nilai Fibonacci pertama 0 
    elif n==1: 
        return 0
    # Nilai Fibonacci kedua 1 
    elif n==2: 
        return 1
    else: 
        return Fibonacci(n-1)+Fibonacci(n-2)

d1=0
d2=1

n = int(input("Masukkan batas deret : "))

for i in range(n):
    print(d1, end=' ')
    cn = d2 + d1
    d1 = d2
    d2 = cn