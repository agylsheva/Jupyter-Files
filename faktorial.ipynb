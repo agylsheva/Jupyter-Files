def faktorial(x):
    hasil = 1
    for i in range(2, x + 1):
        hasil = hasil * i
    return hasil

print (faktorial(5))