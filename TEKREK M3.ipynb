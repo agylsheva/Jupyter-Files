{
 "cells": [
  {
   "cell_type": "markdown",
   "metadata": {
    "id": "NJp-D51g0IDd"
   },
   "source": [
    "## **1) Importing Python Packages for GAN**\n"
   ]
  },
  {
   "cell_type": "code",
   "execution_count": 1,
   "metadata": {
    "id": "1k5mFBuzzl2a"
   },
   "outputs": [
    {
     "name": "stderr",
     "output_type": "stream",
     "text": [
      "A subdirectory or file generated_images already exists.\n"
     ]
    }
   ],
   "source": [
    "from keras.datasets import cifar10, mnist\n",
    "from keras.models import Sequential\n",
    "from keras.layers import Reshape\n",
    "from keras.layers import Dense\n",
    "from keras.layers import Flatten\n",
    "from keras.layers import Conv2D\n",
    "from keras.layers import Conv2DTranspose\n",
    "from keras.layers import Dropout\n",
    "from keras.layers import ELU, PReLU, LeakyReLU\n",
    "from tensorflow.keras.optimizers import Adam\n",
    "import numpy as np\n",
    "!mkdir generated_images"
   ]
  },
  {
   "cell_type": "markdown",
   "metadata": {
    "id": "Yr-eZOzg0X79"
   },
   "source": [
    "## **2) Parameters for Neural Networks & Data**"
   ]
  },
  {
   "cell_type": "code",
   "execution_count": 3,
   "metadata": {
    "colab": {
     "base_uri": "https://localhost:8080/"
    },
    "id": "RThZMDruz9cB",
    "outputId": "e4b60954-991f-4cbb-9bdf-38717f20518a"
   },
   "outputs": [],
   "source": [
    "img_width = 32\n",
    "img_height = 32\n",
    "channels = 3\n",
    "img_shape = (img_width, img_height, channels)\n",
    "latent_dim = 100\n",
    "adam = Adam(learning_rate=0.0002)"
   ]
  },
  {
   "cell_type": "markdown",
   "metadata": {
    "id": "U3bcJZZg0cqy"
   },
   "source": [
    "## **3) Building Generator**\n",
    "\n",
    "\n",
    "\n"
   ]
  },
  {
   "cell_type": "code",
   "execution_count": 4,
   "metadata": {
    "colab": {
     "base_uri": "https://localhost:8080/"
    },
    "id": "NdiqZpri0iQh",
    "outputId": "eff07f93-2f5d-4bfb-b2be-b7d00839b15d"
   },
   "outputs": [
    {
     "name": "stdout",
     "output_type": "stream",
     "text": [
      "Model: \"sequential\"\n",
      "_________________________________________________________________\n",
      " Layer (type)                Output Shape              Param #   \n",
      "=================================================================\n",
      " dense (Dense)               (None, 4096)              413696    \n",
      "                                                                 \n",
      " leaky_re_lu (LeakyReLU)     (None, 4096)              0         \n",
      "                                                                 \n",
      " reshape (Reshape)           (None, 4, 4, 256)         0         \n",
      "                                                                 \n",
      " conv2d_transpose (Conv2DTra  (None, 8, 8, 128)        524416    \n",
      " nspose)                                                         \n",
      "                                                                 \n",
      " leaky_re_lu_1 (LeakyReLU)   (None, 8, 8, 128)         0         \n",
      "                                                                 \n",
      " conv2d_transpose_1 (Conv2DT  (None, 16, 16, 128)      262272    \n",
      " ranspose)                                                       \n",
      "                                                                 \n",
      " leaky_re_lu_2 (LeakyReLU)   (None, 16, 16, 128)       0         \n",
      "                                                                 \n",
      " conv2d_transpose_2 (Conv2DT  (None, 32, 32, 128)      262272    \n",
      " ranspose)                                                       \n",
      "                                                                 \n",
      " leaky_re_lu_3 (LeakyReLU)   (None, 32, 32, 128)       0         \n",
      "                                                                 \n",
      " conv2d (Conv2D)             (None, 32, 32, 3)         3459      \n",
      "                                                                 \n",
      "=================================================================\n",
      "Total params: 1,466,115\n",
      "Trainable params: 1,466,115\n",
      "Non-trainable params: 0\n",
      "_________________________________________________________________\n"
     ]
    }
   ],
   "source": [
    "def build_generator():\n",
    "    model = Sequential()\n",
    "\n",
    "    # Create first layer, to receive the input \n",
    "    model.add(Dense(256 * 4 * 4, input_dim = latent_dim))\n",
    "    # 256 * 8 * 8; for upscaling the layers, \n",
    "    # initial shape to construct into final shape\n",
    "\n",
    "    # Create default activation function\n",
    "    model.add(LeakyReLU(alpha = 0.2))\n",
    "\n",
    "    # Create reshape layer\n",
    "    model.add(Reshape((4, 4,256)))\n",
    "    # 8,8,256 ; reffers to first layer\n",
    "\n",
    "    # Adding more layers for neurons and better result\n",
    "    model.add(Conv2DTranspose(128, (4,4), strides = (2,2), padding = 'same'))\n",
    "    model.add(LeakyReLU(alpha= 0.2))\n",
    "    model.add(Conv2DTranspose(128, (4,4), strides = (2,2), padding = 'same'))\n",
    "    model.add(LeakyReLU(alpha= 0.2))\n",
    "    model.add(Conv2DTranspose(128, (4,4), strides = (2,2), padding = 'same'))\n",
    "    model.add(LeakyReLU(alpha= 0.2))\n",
    "    # (4,4) >> filter size\n",
    "    # strides = (2,2) >> Convolutional layers, that how NN understand images\n",
    "\n",
    "    # Create Final output layer and forming image shape\n",
    "    # the shape (3, (3,3)) reffers to image shape :\n",
    "    #    >>>  img_shape = (img_width, img_height, channels)\n",
    "    model.add(Conv2D(3, (3,3), activation= 'tanh', padding = 'same'))\n",
    "\n",
    "    #\n",
    "    model.summary()\n",
    "    return model\n",
    "\n",
    "generator = build_generator()"
   ]
  },
  {
   "cell_type": "markdown",
   "metadata": {
    "id": "Bt6QsJCW0mcI"
   },
   "source": [
    "## **4) Building Discriminator**"
   ]
  },
  {
   "cell_type": "code",
   "execution_count": 5,
   "metadata": {
    "colab": {
     "base_uri": "https://localhost:8080/"
    },
    "id": "V2JzEAPv0lKt",
    "outputId": "1201760c-1ce4-4c88-b2a5-91aca4d4ea94"
   },
   "outputs": [
    {
     "name": "stdout",
     "output_type": "stream",
     "text": [
      "Model: \"sequential_1\"\n",
      "_________________________________________________________________\n",
      " Layer (type)                Output Shape              Param #   \n",
      "=================================================================\n",
      " conv2d_1 (Conv2D)           (None, 32, 32, 64)        1792      \n",
      "                                                                 \n",
      " leaky_re_lu_4 (LeakyReLU)   (None, 32, 32, 64)        0         \n",
      "                                                                 \n",
      " conv2d_2 (Conv2D)           (None, 32, 32, 128)       73856     \n",
      "                                                                 \n",
      " leaky_re_lu_5 (LeakyReLU)   (None, 32, 32, 128)       0         \n",
      "                                                                 \n",
      " conv2d_3 (Conv2D)           (None, 32, 32, 128)       147584    \n",
      "                                                                 \n",
      " leaky_re_lu_6 (LeakyReLU)   (None, 32, 32, 128)       0         \n",
      "                                                                 \n",
      " conv2d_4 (Conv2D)           (None, 32, 32, 256)       295168    \n",
      "                                                                 \n",
      " leaky_re_lu_7 (LeakyReLU)   (None, 32, 32, 256)       0         \n",
      "                                                                 \n",
      " flatten (Flatten)           (None, 262144)            0         \n",
      "                                                                 \n",
      " dropout (Dropout)           (None, 262144)            0         \n",
      "                                                                 \n",
      " dense_1 (Dense)             (None, 1)                 262145    \n",
      "                                                                 \n",
      "=================================================================\n",
      "Total params: 780,545\n",
      "Trainable params: 780,545\n",
      "Non-trainable params: 0\n",
      "_________________________________________________________________\n"
     ]
    }
   ],
   "source": [
    "def build_discriminator():\n",
    "    model = Sequential()\n",
    "\n",
    "    # Create input layer and filter and stride layer. That makes NN understand image\n",
    "    model.add(Conv2D(64, (3,3), padding = 'same', input_shape = img_shape))\n",
    "\n",
    "    # Adding activation function\n",
    "    model.add(LeakyReLU(alpha = 0.2))\n",
    "    model.add(Conv2D(128, (3,3), padding = 'same'))\n",
    "    model.add(LeakyReLU(alpha = 0.2))\n",
    "    model.add(Conv2D(128, (3,3), padding = 'same'))\n",
    "    model.add(LeakyReLU(alpha = 0.2))\n",
    "    model.add(Conv2D(256, (3,3), padding = 'same'))\n",
    "    model.add(LeakyReLU(alpha = 0.2))\n",
    "    model.add(Flatten())\n",
    "\n",
    "    model.add(Dropout(0.4))\n",
    "\n",
    "    # Create output layer\n",
    "    model.add(Dense(1, activation = 'sigmoid'))\n",
    "\n",
    "    model.summary()\n",
    "    return model\n",
    "\n",
    "discriminator = build_discriminator()\n",
    "discriminator.compile(loss='binary_crossentropy', optimizer=adam, metrics=['accuracy'])"
   ]
  },
  {
   "cell_type": "markdown",
   "metadata": {
    "id": "TbcKcKmA0q2S"
   },
   "source": [
    "## **5) Connecting Neural Networks to build GAN**"
   ]
  },
  {
   "cell_type": "code",
   "execution_count": 6,
   "metadata": {
    "id": "q0Ue3TEd0xLy"
   },
   "outputs": [],
   "source": [
    "GAN = Sequential()\n",
    "discriminator.trainable = False\n",
    "GAN.add(generator)\n",
    "GAN.add(discriminator)\n",
    "\n",
    "GAN.compile(loss='binary_crossentropy', optimizer=adam)"
   ]
  },
  {
   "cell_type": "code",
   "execution_count": 7,
   "metadata": {
    "id": "EPqU8dZDaQmE"
   },
   "outputs": [
    {
     "name": "stdout",
     "output_type": "stream",
     "text": [
      "Model: \"sequential_2\"\n",
      "_________________________________________________________________\n",
      " Layer (type)                Output Shape              Param #   \n",
      "=================================================================\n",
      " sequential (Sequential)     (None, 32, 32, 3)         1466115   \n",
      "                                                                 \n",
      " sequential_1 (Sequential)   (None, 1)                 780545    \n",
      "                                                                 \n",
      "=================================================================\n",
      "Total params: 2,246,660\n",
      "Trainable params: 1,466,115\n",
      "Non-trainable params: 780,545\n",
      "_________________________________________________________________\n"
     ]
    }
   ],
   "source": [
    "GAN.summary()"
   ]
  },
  {
   "cell_type": "markdown",
   "metadata": {
    "id": "2WaNhBDwRwTG"
   },
   "source": [
    "## **6) Outputting Images**\n"
   ]
  },
  {
   "cell_type": "code",
   "execution_count": null,
   "metadata": {
    "id": "HQEJ0WbjRppy"
   },
   "outputs": [],
   "source": []
  },
  {
   "cell_type": "markdown",
   "metadata": {
    "id": "tE57Lk5V0xs2"
   },
   "source": [
    "## **7) Training GAN**"
   ]
  },
  {
   "cell_type": "code",
   "execution_count": null,
   "metadata": {
    "id": "egSJJvik00Iq"
   },
   "outputs": [],
   "source": []
  },
  {
   "cell_type": "code",
   "execution_count": null,
   "metadata": {
    "id": "GS9wDLeRLUOB"
   },
   "outputs": [],
   "source": []
  },
  {
   "cell_type": "code",
   "execution_count": null,
   "metadata": {
    "id": "9Rlgu8g9Lik9"
   },
   "outputs": [],
   "source": []
  },
  {
   "cell_type": "markdown",
   "metadata": {
    "id": "po-jSQoN1Azl"
   },
   "source": [
    "### **8) Making GIF**"
   ]
  },
  {
   "cell_type": "code",
   "execution_count": null,
   "metadata": {
    "id": "XPShgQpg1EMy"
   },
   "outputs": [],
   "source": []
  }
 ],
 "metadata": {
  "accelerator": "GPU",
  "colab": {
   "collapsed_sections": [],
   "machine_shape": "hm",
   "name": "Cifar10_Solution.ipynb",
   "provenance": []
  },
  "kernelspec": {
   "display_name": "Python 3 (ipykernel)",
   "language": "python",
   "name": "python3"
  },
  "language_info": {
   "codemirror_mode": {
    "name": "ipython",
    "version": 3
   },
   "file_extension": ".py",
   "mimetype": "text/x-python",
   "name": "python",
   "nbconvert_exporter": "python",
   "pygments_lexer": "ipython3",
   "version": "3.9.7"
  }
 },
 "nbformat": 4,
 "nbformat_minor": 1
}
