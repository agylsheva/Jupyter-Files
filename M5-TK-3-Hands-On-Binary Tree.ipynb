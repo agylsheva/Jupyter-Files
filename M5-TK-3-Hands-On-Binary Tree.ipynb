{
 "cells": [
  {
   "cell_type": "code",
   "execution_count": null,
   "id": "8dc4d890",
   "metadata": {},
   "outputs": [],
   "source": [
    "from binarytree import build"
   ]
  },
  {
   "cell_type": "code",
   "execution_count": null,
   "id": "ffa3413c",
   "metadata": {},
   "outputs": [],
   "source": [
    "# List of nodes\n",
    "nodes =[3, 6, 8, 2, 11, None, 13]"
   ]
  },
  {
   "cell_type": "code",
   "execution_count": null,
   "id": "f33cd8f5",
   "metadata": {},
   "outputs": [],
   "source": [
    "binary_tree = build(nodes)\n",
    "print('Binary tree from list :\\n',\n",
    "      binary_tree)"
   ]
  },
  {
   "cell_type": "code",
   "execution_count": null,
   "id": "774a4dc4",
   "metadata": {},
   "outputs": [],
   "source": [
    "# Getting list of nodes from\n",
    "# binarytree\n",
    "print('\\nList from binary tree :',\n",
    "      binary_tree.values)"
   ]
  },
  {
   "cell_type": "code",
   "execution_count": null,
   "id": "013a8449",
   "metadata": {},
   "outputs": [],
   "source": []
  }
 ],
 "metadata": {
  "kernelspec": {
   "display_name": "Python 3 (ipykernel)",
   "language": "python",
   "name": "python3"
  },
  "language_info": {
   "codemirror_mode": {
    "name": "ipython",
    "version": 3
   },
   "file_extension": ".py",
   "mimetype": "text/x-python",
   "name": "python",
   "nbconvert_exporter": "python",
   "pygments_lexer": "ipython3",
   "version": "3.8.10"
  }
 },
 "nbformat": 4,
 "nbformat_minor": 5
}
