{
 "cells": [
  {
   "cell_type": "code",
   "execution_count": 1,
   "id": "10b30695",
   "metadata": {},
   "outputs": [],
   "source": [
    "from anytree import Node, RenderTree"
   ]
  },
  {
   "cell_type": "code",
   "execution_count": 2,
   "id": "2240fe34",
   "metadata": {},
   "outputs": [],
   "source": [
    "root = Node(10)"
   ]
  },
  {
   "cell_type": "code",
   "execution_count": 3,
   "id": "91cf0407",
   "metadata": {},
   "outputs": [],
   "source": [
    "level_1_child_1 = Node(34, parent=root)\n",
    "level_1_child_2 = Node(89, parent=root)\n",
    "level_2_child_1 = Node(45, parent=level_1_child_1)\n",
    "level_2_child_2 = Node(50, parent=level_1_child_2)"
   ]
  },
  {
   "cell_type": "code",
   "execution_count": 4,
   "id": "6f3543bd",
   "metadata": {},
   "outputs": [
    {
     "name": "stdout",
     "output_type": "stream",
     "text": [
      "10\n",
      "├── 34\n",
      "│   └── 45\n",
      "└── 89\n",
      "    └── 50\n"
     ]
    }
   ],
   "source": [
    "for pre, fill, node in RenderTree(root):\n",
    "    print(\"%s%s\" % (pre, node.name))"
   ]
  },
  {
   "cell_type": "code",
   "execution_count": null,
   "id": "4bb286b7",
   "metadata": {},
   "outputs": [],
   "source": []
  }
 ],
 "metadata": {
  "kernelspec": {
   "display_name": "Python 3 (ipykernel)",
   "language": "python",
   "name": "python3"
  },
  "language_info": {
   "codemirror_mode": {
    "name": "ipython",
    "version": 3
   },
   "file_extension": ".py",
   "mimetype": "text/x-python",
   "name": "python",
   "nbconvert_exporter": "python",
   "pygments_lexer": "ipython3",
   "version": "3.8.10"
  }
 },
 "nbformat": 4,
 "nbformat_minor": 5
}
